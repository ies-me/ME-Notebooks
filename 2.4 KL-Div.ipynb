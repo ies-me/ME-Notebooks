{
 "cells": [
  {
   "cell_type": "code",
   "execution_count": 1,
   "metadata": {},
   "outputs": [
    {
     "name": "stdout",
     "output_type": "stream",
     "text": [
      "Populating the interactive namespace from numpy and matplotlib\n"
     ]
    }
   ],
   "source": [
    "%pylab inline\n",
    "import seaborn as sns\n",
    "sns.set_context(\"talk\")\n",
    "\n",
    "import scipy.stats as st\n",
    "import scipy.integrate\n",
    "import ipywidgets as widgets\n",
    "\n",
    "import warnings\n",
    "warnings.filterwarnings('ignore')"
   ]
  },
  {
   "cell_type": "markdown",
   "metadata": {},
   "source": [
    "## Diskrete KL-Divergenz, binäres Zufallsexperiment\n",
    "\n",
    "$$\\begin{matrix}\n",
    "P_1(x=0) = a & P_1(x=1) = 1-a \\\\\n",
    "P_2(x=0) = b & P_2(x=1) = 1-b\n",
    "\\end{matrix}$$\n",
    "\n",
    "$$\\Rightarrow D_{\\text{KL}}(P_1\\|P_2) = a \\log\\frac ab + (1-a) \\log \\frac{1-a}{1-b}$$"
   ]
  },
  {
   "cell_type": "code",
   "execution_count": 7,
   "metadata": {},
   "outputs": [
    {
     "data": {
      "application/vnd.jupyter.widget-view+json": {
       "model_id": "3289c6de8910461ba5696e14744cdec7"
      }
     },
     "metadata": {},
     "output_type": "display_data"
    }
   ],
   "source": [
    "@widgets.interact(a=(0,1,.01))\n",
    "def toy_example(a=.3):\n",
    "    b = linspace(1e-2,1-1e-2,100)\n",
    "    \n",
    "    figure(figsize=(10,5))\n",
    "    plot(b, a*log(a/b) + (1-a)*log((1-a)/(1-b)))\n",
    "    axvline(a, 0, .5, color='red')\n",
    "    text(a, ylim()[1]/2+.1, \"a\", horizontalalignment='center')\n",
    "    xlabel(\"b\")\n",
    "    ylabel(\"D({a,1-a}||{b,1-b})\")\n",
    "    xlim(0,1)\n",
    "    ylim(0)\n",
    "    sns.despine()\n",
    "    show()"
   ]
  },
  {
   "cell_type": "markdown",
   "metadata": {},
   "source": [
    "## Diskrete KL-Divergenz:\n",
    "\n",
    "$$D_{\\text{KL}}(P\\|Q) = \\!\\!\\!\\!\\!\\!\\sum_{m\\,\\in\\,\\text{supp}\\{P(m)\\}}\\!\\!\\!\\!\\!\\!P(m) \\log \\frac{P(m)}{Q(m)}$$"
   ]
  },
  {
   "cell_type": "code",
   "execution_count": 3,
   "metadata": {},
   "outputs": [],
   "source": [
    "def KL_discrete(P, Q):\n",
    "    support = P > 0\n",
    "    return sum(P[support]*log(P[support]/Q[support]))"
   ]
  },
  {
   "cell_type": "markdown",
   "metadata": {},
   "source": [
    "### KL-Divergenz zwischen Binomial- und Poission-Verteilung\n",
    "\n",
    "* **Binomialverteilung**: Wahrscheinlichkeit, dass von $T$ gleichartigen Experimenten mit Erfolgswahrscheinlichkeit $p$ die Anzahl $m$ von Experimenten erfolgreich ist:\n",
    "\n",
    "$$B\\left(m\\,|\\,T,p\\right) = \\begin{pmatrix}T\\\\m\\end{pmatrix} p^m (1-p)^{T-m}$$\n",
    "\n",
    "* **Poission-Verteilung**: Wahrscheinlichkeit, in einem festen Zeitintervall $m$ Ereignisse zu beobachten, wenn $\\lambda$ Ereignisse erwartet werden:\n",
    "\n",
    "$$\\textit{Poi}\\left(m\\,|\\,\\lambda\\right) = \\frac{\\lambda^m}{m!}e^{-\\lambda}$$"
   ]
  },
  {
   "cell_type": "code",
   "execution_count": 8,
   "metadata": {},
   "outputs": [
    {
     "data": {
      "application/vnd.jupyter.widget-view+json": {
       "model_id": "18ff604f8e8d47079bd25694acea79c3"
      }
     },
     "metadata": {},
     "output_type": "display_data"
    }
   ],
   "source": [
    "def dkl_example(T, p, lam):\n",
    "    m = arange(T)\n",
    "    P, Q = st.binom.pmf(m, T, p), st.poisson.pmf(m, lam)\n",
    "    klPQ, klQP = KL_discrete(P, Q), KL_discrete(Q, P)\n",
    "    \n",
    "    figure(figsize=(12,6))\n",
    "    bar(m-.2, P, .4, label=\"B(T={}, p={:.2f})\".format(T, p))\n",
    "    bar(m+.2, Q, .4, label=\"Poi(λ={})\".format(lam))\n",
    "    \n",
    "    legend(loc=\"best\")\n",
    "    xlim(0-.5,m[-1])\n",
    "    xlabel(\"m\")\n",
    "    ylabel(\"P(m)\")\n",
    "    title(\"D( B || Poi ) = {:.03f}   und   D( Poi || B ) = {:.03f}\".format(klPQ, klQP))\n",
    "    \n",
    "    sns.despine()\n",
    "    show()\n",
    "    \n",
    "interactive_plot = widgets.interactive(dkl_example,\n",
    "    T = widgets.IntSlider(min=0, max=50, value=20),\n",
    "    p = widgets.FloatSlider(min=0, max=1, step=.01, value=.2),\n",
    "    lam = widgets.FloatSlider(min=0, max=20, step=.1, value=.6))\n",
    "\n",
    "output = interactive_plot.children[-1]\n",
    "output.layout.height = '410px'\n",
    "interactive_plot"
   ]
  },
  {
   "cell_type": "markdown",
   "metadata": {},
   "source": [
    "## Kontinuierliche KL-Divergenz:\n",
    "\n",
    "$$D_{\\text{KL}}(p\\|q) = \\!\\!\\!\\!\\int\\limits_{\\text{supp}\\{p(m)\\}}\\!\\!\\!\\! p(m) \\log \\frac{p(m)}{q(m)}\\, \\mathrm{d}m$$"
   ]
  },
  {
   "cell_type": "code",
   "execution_count": 5,
   "metadata": {},
   "outputs": [],
   "source": [
    "def KL_continuous(p, q, mvals):\n",
    "    return scipy.integrate.trapz(p*log(p/q), mvals)"
   ]
  },
  {
   "cell_type": "markdown",
   "metadata": {},
   "source": [
    "### KL-Divergenz zwischen zwei Normalverteilungen\n",
    "\n",
    "**Normalverteilung** mit Erwartungswert $\\mu$ und Varianz $\\sigma^2$:\n",
    "\n",
    "$$N\\left(m\\,|\\,\\mu,\\sigma\\right) = \\frac{1}{\\sqrt{2\\pi\\sigma^2}} \\exp\\left\\{-\\frac{(m - \\mu)^2}{2\\sigma^2}\\right\\}$$"
   ]
  },
  {
   "cell_type": "code",
   "execution_count": 6,
   "metadata": {},
   "outputs": [
    {
     "data": {
      "application/vnd.jupyter.widget-view+json": {
       "model_id": "8b7975f6768d4fc4a1d980ab2320f26f"
      }
     },
     "metadata": {},
     "output_type": "display_data"
    }
   ],
   "source": [
    "def kkl_example(mu1, sigma1, mu2, sigma2):\n",
    "    m = linspace(-10,10,150)\n",
    "    p, q = st.norm.pdf(m,mu1,sigma1), st.norm.pdf(m,mu2,sigma2)\n",
    "    klpq, klqp = KL_continuous(p, q, m), KL_continuous(q, p, m)\n",
    "    \n",
    "    figure(figsize=(12,6))\n",
    "    plot(m, p, label=\"N(μ={}, σ={})\".format(mu1, sigma1))\n",
    "    plot(m, q, label=\"N(μ={}, σ={})\".format(mu2, sigma2))\n",
    "    \n",
    "    legend(loc=\"best\")\n",
    "    xlabel(\"m\")\n",
    "    ylabel(\"p(m)\")\n",
    "    title(\"D( N1 || N2 ) = {:.03f}   und   D( N2 || N1 ) = {:.03f}\".format(klpq, klqp))\n",
    "    \n",
    "    sns.despine()\n",
    "    show()\n",
    "    \n",
    "interactive_plot = widgets.interactive(kkl_example,\n",
    "    mu1 = widgets.FloatSlider(min=-5, max=5, step=.01, value=-2),\n",
    "    sigma1 = widgets.FloatSlider(min=0, max=5, step=.01, value=1.5),\n",
    "    mu2 = widgets.FloatSlider(min=-5, max=5, step=.01, value=2),\n",
    "    sigma2 = widgets.FloatSlider(min=0, max=5, step=.01, value=1.5))\n",
    "\n",
    "output = interactive_plot.children[-1]\n",
    "output.layout.height = '410px'\n",
    "interactive_plot"
   ]
  },
  {
   "cell_type": "code",
   "execution_count": null,
   "metadata": {},
   "outputs": [],
   "source": []
  }
 ],
 "metadata": {
  "kernelspec": {
   "display_name": "Python 3",
   "language": "python",
   "name": "python3"
  },
  "language_info": {
   "codemirror_mode": {
    "name": "ipython",
    "version": 3
   },
   "file_extension": ".py",
   "mimetype": "text/x-python",
   "name": "python",
   "nbconvert_exporter": "python",
   "pygments_lexer": "ipython3",
   "version": "3.6.5"
  }
 },
 "nbformat": 4,
 "nbformat_minor": 2
}
