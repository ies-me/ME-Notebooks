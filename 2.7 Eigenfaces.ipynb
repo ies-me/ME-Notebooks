{
 "cells": [
  {
   "cell_type": "code",
   "execution_count": null,
   "metadata": {},
   "outputs": [],
   "source": [
    "%pylab inline\n",
    "import os\n",
    "import seaborn as sns\n",
    "import ipywidgets as widgets\n",
    "sns.set_context('talk')\n",
    "from sklearn.decomposition import PCA"
   ]
  },
  {
   "cell_type": "markdown",
   "metadata": {},
   "source": [
    "## Datensatz: Normalized Yale Face Dataset\n",
    "\n",
    "Heruntergeladen von http://vismod.media.mit.edu/vismod/classes/mas622-00/datasets/\n",
    "\n",
    "* 165 Bilder von 15 Personen\n",
    "* Verschiedene Beleuchtungswinkel\n",
    "* Verschiedene Gesichtsausdrücke\n",
    "* Bilder normalisiert:\n",
    "  * Gesichter rotiert, sodass Augen auf einer Linie sind.\n",
    "  * Gesichter ausgeschnitten, sodass der Bildmittelpunkt zwischen den Augen liegt.\n",
    "  * 195x231 Pixel breit/hoch"
   ]
  },
  {
   "cell_type": "code",
   "execution_count": null,
   "metadata": {},
   "outputs": [],
   "source": [
    "images = [imread(os.path.join(\"YALE\", \"centered\", f)) for f in os.listdir(os.path.join(\"YALE\", \"centered\"))]\n",
    "ids = array([f[:9] for f in os.listdir(os.path.join(\"YALE\", \"centered\"))])"
   ]
  },
  {
   "cell_type": "code",
   "execution_count": null,
   "metadata": {},
   "outputs": [],
   "source": [
    "imgshape = images[0].shape"
   ]
  },
  {
   "cell_type": "markdown",
   "metadata": {},
   "source": [
    "## 10 zufällige Gesichter"
   ]
  },
  {
   "cell_type": "code",
   "execution_count": null,
   "metadata": {},
   "outputs": [],
   "source": [
    "figure(figsize=(14,6))\n",
    "gray()\n",
    "for i,k in enumerate(random.choice(arange(len(images)), 10)):\n",
    "    subplot(2,5,i+1)\n",
    "    imshow(images[k])\n",
    "    axis(\"off\")"
   ]
  },
  {
   "cell_type": "markdown",
   "metadata": {},
   "source": [
    "## Eigenfaces\n",
    "\n",
    "50 Komponenten"
   ]
  },
  {
   "cell_type": "code",
   "execution_count": null,
   "metadata": {},
   "outputs": [],
   "source": [
    "# Bilder als Vektoren abrollen\n",
    "X = array(images).reshape(len(images), -1)"
   ]
  },
  {
   "cell_type": "code",
   "execution_count": null,
   "metadata": {},
   "outputs": [],
   "source": [
    "pca = PCA(n_components=50).fit(X)"
   ]
  },
  {
   "cell_type": "markdown",
   "metadata": {},
   "source": [
    "### Mittleres Gesicht"
   ]
  },
  {
   "cell_type": "code",
   "execution_count": null,
   "metadata": {},
   "outputs": [],
   "source": [
    "gray()\n",
    "imshow(pca.mean_.reshape(imgshape))\n",
    "axis('off');"
   ]
  },
  {
   "cell_type": "markdown",
   "metadata": {},
   "source": [
    "### 20 erste Hauptrichtungen"
   ]
  },
  {
   "cell_type": "code",
   "execution_count": null,
   "metadata": {},
   "outputs": [],
   "source": [
    "figure(figsize=(16,12))\n",
    "for i,img in enumerate(pca.components_[:20]):\n",
    "    subplot(4,5,i+1)\n",
    "    imshow(img.reshape(imgshape))\n",
    "    magma()\n",
    "    axis('off')"
   ]
  },
  {
   "cell_type": "markdown",
   "metadata": {},
   "source": [
    "### Sichtung"
   ]
  },
  {
   "cell_type": "code",
   "execution_count": null,
   "metadata": {},
   "outputs": [],
   "source": [
    "figure(figsize=(14,4))\n",
    "bar(arange(pca.n_components_), pca.explained_variance_ratio_)\n",
    "sns.despine()\n",
    "xlabel(\"Komponente\")\n",
    "ylabel(\"Erklärte Varianz (anteilig)\");"
   ]
  },
  {
   "cell_type": "code",
   "execution_count": null,
   "metadata": {},
   "outputs": [],
   "source": [
    "pX = pca.transform(X)"
   ]
  },
  {
   "cell_type": "code",
   "execution_count": null,
   "metadata": {},
   "outputs": [],
   "source": [
    "figure(figsize=(14,4))\n",
    "for c2 in range(1,4):\n",
    "    subplot(1,3,c2)\n",
    "    for id in unique(ids):\n",
    "        scatter(pX[ids==id,c2], pX[ids==id,0], s=20, label=id)\n",
    "    sns.despine()\n",
    "    if c2==1:\n",
    "        ylabel(\"Komponente 1\")\n",
    "    xlabel(\"Komponente {}\".format(c2+1));"
   ]
  },
  {
   "cell_type": "code",
   "execution_count": null,
   "metadata": {},
   "outputs": [],
   "source": [
    "@widgets.interact(k=(0,len(images)))\n",
    "def faceDetails(k=0):\n",
    "    figure(figsize=(16,4))\n",
    "    gray()\n",
    "    subplot(131)\n",
    "    title(\"Original\")\n",
    "    imshow(images[k])\n",
    "    axis('off')\n",
    "\n",
    "    subplot(132)\n",
    "    bar(arange(pca.n_components_), pX[k])\n",
    "    axhline(0, color='black', lw=1)\n",
    "    title(\"Merkmalsvektor\")\n",
    "    sns.despine()\n",
    "    xlabel(\"Komponente\")\n",
    "    ylabel(\"Loading\")\n",
    "\n",
    "    subplot(133)\n",
    "    imshow(pca.inverse_transform(pX[k]).reshape(imgshape))\n",
    "    title(\"Rekonstruktion\")\n",
    "    axis('off')\n",
    "    \n",
    "    show()"
   ]
  },
  {
   "cell_type": "markdown",
   "metadata": {},
   "source": [
    "### Synthese"
   ]
  },
  {
   "cell_type": "code",
   "execution_count": null,
   "metadata": {},
   "outputs": [],
   "source": [
    "rnge = (-10000,10000,1)\n",
    "@widgets.interact(\n",
    "    f01 = rnge, f02 = rnge, f03 = rnge, f04 = rnge, f05 = rnge,\n",
    "    f06 = rnge, f07 = rnge, f08 = rnge, f09 = rnge, f10 = rnge)\n",
    "def synth(f01=0, f02=0, f03=0, f04=0, f05=0, f06=0, f07=0, f08=0, f09=0, f10=0):\n",
    "    figure(figsize=(8,8))\n",
    "    gray()\n",
    "    x = zeros_like(pX[0])\n",
    "    x[:10] = [f01, f02, f03, f04, f05, f06, f07, f08, f09, f10]\n",
    "    imshow(pca.inverse_transform(x).reshape(imgshape))\n",
    "    axis(\"off\")\n",
    "    show()"
   ]
  }
 ],
 "metadata": {
  "kernelspec": {
   "display_name": "Python 3",
   "language": "python",
   "name": "python3"
  },
  "language_info": {
   "codemirror_mode": {
    "name": "ipython",
    "version": 3
   },
   "file_extension": ".py",
   "mimetype": "text/x-python",
   "name": "python",
   "nbconvert_exporter": "python",
   "pygments_lexer": "ipython3",
   "version": "3.6.5"
  }
 },
 "nbformat": 4,
 "nbformat_minor": 2
}
