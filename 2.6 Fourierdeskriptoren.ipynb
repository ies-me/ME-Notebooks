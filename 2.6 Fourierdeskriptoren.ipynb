{
 "cells": [
  {
   "cell_type": "code",
   "execution_count": null,
   "metadata": {},
   "outputs": [],
   "source": [
    "%pylab inline\n",
    "import urllib\n",
    "import seaborn as sns\n",
    "import ipywidgets as widgets\n",
    "sns.set_context('talk')\n",
    "\n",
    "from skimage.measure import find_contours\n",
    "from skimage.io import imread\n",
    "from scipy.interpolate import interp1d\n",
    "from scipy import fftpack"
   ]
  },
  {
   "cell_type": "code",
   "execution_count": null,
   "metadata": {},
   "outputs": [],
   "source": [
    "img = imread(\"https://raw.githubusercontent.com/ies-me/ME-Notebooks/master/ME.png\")\n",
    "imshow(img)\n",
    "axis('off');"
   ]
  },
  {
   "cell_type": "markdown",
   "metadata": {},
   "source": [
    "## Kontur als periodische Funktion z(t) mit Periodenlänge T = 1"
   ]
  },
  {
   "cell_type": "code",
   "execution_count": null,
   "metadata": {},
   "outputs": [],
   "source": [
    "contour = find_contours(img[:,:,0], .5)[0]\n",
    "z_coef = contour[:,1] + (img.shape[0]-contour[:,0]) * 1j\n",
    "z = interp1d(linspace(0,1,z_coef.shape[0]), z_coef)"
   ]
  },
  {
   "cell_type": "code",
   "execution_count": null,
   "metadata": {},
   "outputs": [],
   "source": [
    "@widgets.interact(t=(0,3,.01))\n",
    "def plot_contour(t=0):\n",
    "    plot(z_coef.real, z_coef.imag)\n",
    "    x = z(t%1)\n",
    "    plot(x.real, x.imag, 'o')\n",
    "    text(x.real+3, x.imag-2, \"t={:.2f}\".format(t))\n",
    "    sns.despine()\n",
    "    show()"
   ]
  },
  {
   "cell_type": "markdown",
   "metadata": {},
   "source": [
    "## FFT der Kontur\n",
    "\n",
    "Abtastung an equidistanten Stützstellen $t_i = \\frac{i}{501}, i = 0, \\ldots, 500$"
   ]
  },
  {
   "cell_type": "code",
   "execution_count": null,
   "metadata": {},
   "outputs": [],
   "source": [
    "c_coef = fftpack.fftshift(fftpack.fft(z(linspace(0,1,501))))\n",
    "n0 = 250"
   ]
  },
  {
   "cell_type": "code",
   "execution_count": null,
   "metadata": {},
   "outputs": [],
   "source": [
    "figure(figsize=(14,4))\n",
    "\n",
    "subplot(121)\n",
    "semilogy(arange(len(c_coef))-n0, abs(c_coef))\n",
    "xlabel(\"Koeffizient $n$\")\n",
    "ylabel(\"Betrag $|c_n|$ (log-scale)\")\n",
    "sns.despine()\n",
    "\n",
    "subplot(122)\n",
    "plot(arange(len(c_coef))-n0, np.angle(c_coef))\n",
    "xlabel(\"Koeffizient $n$\")\n",
    "ylabel(\"Phase $\\\\phi_n$\")\n",
    "sns.despine()"
   ]
  },
  {
   "cell_type": "markdown",
   "metadata": {},
   "source": [
    "# Rekonstruktion\n",
    "\n",
    "... ohne Beachtung der Skalierung aus den Koeffizienten $c_{-N}, \\ldots, c_{-s}, c_s, \\ldots c_N$:\n",
    "\n",
    "$$z'(t) = \\sum_{n=-N}^N \\delta_{\\left[-s\\le n \\le s\\right]}\\,c_n\\exp(2\\pi{}j\\cdot nt) \\quad t \\in [0,1)$$"
   ]
  },
  {
   "cell_type": "code",
   "execution_count": null,
   "metadata": {},
   "outputs": [],
   "source": [
    "def reconstruct_z(t, coef=c_coef, s=0):\n",
    "    ns = arange(coef.shape[0]) - coef.shape[0]//2\n",
    "    return sum((abs(n) >= s) * c*exp(2j*pi * n*t) for n,c in zip(ns, coef))"
   ]
  },
  {
   "cell_type": "code",
   "execution_count": null,
   "metadata": {},
   "outputs": [],
   "source": [
    "@widgets.interact(N=(1,100), s=(0,50))\n",
    "def approx_contour(N=100,s=0):\n",
    "    zz = reconstruct_z(linspace(0,1,c_coef.shape[0]), c_coef[n0-N:n0+N+1], s)\n",
    "    axhline(0, color=\"gray\", lw=1)\n",
    "    axvline(0, color=\"gray\", lw=1)\n",
    "    plot(zz.real, zz.imag)\n",
    "    sns.despine()\n",
    "    if s > 0:\n",
    "        title(\"Rekonstruktion aus $c_{{-{0}}}, \\\\ldots, c_{{-{1}}}, c_{{{1}}}, \\\\ldots, c_{{{0}}}$\".format(N, s))\n",
    "    else:\n",
    "        title(\"Rekonstruktion aus $c_{{-{0}}}, \\\\ldots, c_{{{0}}}$\".format(N))\n",
    "    show()"
   ]
  },
  {
   "cell_type": "markdown",
   "metadata": {},
   "source": [
    "## Zufällige Phase\n",
    "\n",
    "Rekonstruktion mit $N = 42, s = 0$ und einer Komponente mit zufälliger Phase, $c_i \\leftarrow |c_i| \\exp(\\varphi'\\,2\\pi\\,j)\\quad\\text{mit }\\varphi' \\in [0,2\\pi]$"
   ]
  },
  {
   "cell_type": "code",
   "execution_count": null,
   "metadata": {},
   "outputs": [],
   "source": [
    "cc = c_coef[n0-42:n0+42].copy()\n",
    "i = randint(len(cc))-42\n",
    "cc[i] = abs(cc[42+i]) * exp(rand()*2j*pi)\n",
    "title(r\"$\\varphi_{{{}}}$ = {:.3f}\".format(i, np.angle(cc[i])))\n",
    "zz = reconstruct_z(linspace(0,1,c_coef.shape[0]), cc)\n",
    "plot(zz.real, zz.imag)\n",
    "sns.despine()"
   ]
  },
  {
   "cell_type": "markdown",
   "metadata": {},
   "source": [
    "## Translationsinvarianz\n",
    "\n",
    "Rekonstruktion mit $N = 23, s = 0$ und Normalisierung $c_0 \\leftarrow 0$"
   ]
  },
  {
   "cell_type": "code",
   "execution_count": null,
   "metadata": {},
   "outputs": [],
   "source": [
    "cc = c_coef[n0-23:n0+23].copy()\n",
    "\n",
    "figure(figsize=(14,4))\n",
    "subplot(121)\n",
    "title(r\"unnormalisiert\")\n",
    "axhline(0, color=\"gray\", lw=1)\n",
    "axvline(0, color=\"gray\", lw=1)\n",
    "zz = reconstruct_z(linspace(0,1,c_coef.shape[0]), cc)\n",
    "plot(zz.real, zz.imag)\n",
    "sns.despine()\n",
    "\n",
    "subplot(122)\n",
    "title(r\"$c_0 = 0$\")\n",
    "axhline(0, color=\"gray\", lw=1)\n",
    "axvline(0, color=\"gray\", lw=1)\n",
    "cc[len(cc)//2] = 0\n",
    "zz = reconstruct_z(linspace(0,1,c_coef.shape[0]), cc)\n",
    "plot(zz.real, zz.imag)\n",
    "sns.despine()\n",
    "\n",
    "show()"
   ]
  },
  {
   "cell_type": "markdown",
   "metadata": {},
   "source": [
    "## Skalierungsinvarianz\n",
    "\n",
    "Rekonstruktion mit $N = 23, s = 0$ und Normalisierung\n",
    "\n",
    "$$c_n \\leftarrow \\frac{c_n}{c_m}\\quad \\text{für festes }m\\text{ und alle }-N \\le n \\le N$$\n",
    "\n",
    "(Skala der Plots beachten!)"
   ]
  },
  {
   "cell_type": "code",
   "execution_count": null,
   "metadata": {},
   "outputs": [],
   "source": [
    "@widgets.interact(Skalierungsfaktor=(-5,5,.01), m=(-23,23))\n",
    "def approx_contour(Skalierungsfaktor=1, m=1):\n",
    "    zz = Skalierungsfaktor * z(linspace(0,1,501))\n",
    "    cc = fftpack.fftshift(fftpack.fft(zz))\n",
    "    cc = cc[n0-23:n0+23]\n",
    "    \n",
    "    figure(figsize=(14,4))\n",
    "    subplot(121)\n",
    "    title(r\"unnormalisiert\")\n",
    "    zz = reconstruct_z(linspace(0,1,c_coef.shape[0]), cc)\n",
    "    plot(zz.real, zz.imag)\n",
    "    sns.despine()\n",
    "    \n",
    "    subplot(122)\n",
    "    title(r\"$c_n = c_n / |c_{{{}}}|$\".format(m))\n",
    "    cc /= abs(cc[m])\n",
    "    zz = reconstruct_z(linspace(0,1,c_coef.shape[0]), cc)\n",
    "    plot(zz.real, zz.imag)\n",
    "    sns.despine()\n",
    "    show()"
   ]
  },
  {
   "cell_type": "markdown",
   "metadata": {},
   "source": [
    "## Rotationsinvarianz\n",
    "\n",
    "Rekonstruktion mit $N = 23, s = 0$ und Normalisierung\n",
    "\n",
    "$$c_n \\leftarrow c_n \\exp(-j \\varphi_m)\\quad \\text{für festes } m$$"
   ]
  },
  {
   "cell_type": "code",
   "execution_count": null,
   "metadata": {},
   "outputs": [],
   "source": [
    "@widgets.interact(Drehwinkel=(-3.14,3.14,.01), m=(-23,23))\n",
    "def approx_contour(Drehwinkel=0, m=16):\n",
    "    zz = z(linspace(0,1,501)) * exp(Drehwinkel*1j)\n",
    "    cc = fftpack.fftshift(fftpack.fft(zz))\n",
    "    cc = cc[n0-23:n0+23]\n",
    "    \n",
    "    figure(figsize=(14,4))\n",
    "    subplot(121)\n",
    "    title(r\"unnormalisiert\")\n",
    "    zz = reconstruct_z(linspace(0,1,c_coef.shape[0]), cc)\n",
    "    plot(zz.real, zz.imag)\n",
    "    sns.despine()\n",
    "    \n",
    "    subplot(122)\n",
    "    title(r\"$c_n = c_n \\cdot \\exp(-j\\,\\varphi_{{{}}})$\".format(m))\n",
    "\n",
    "    cc *= exp(-1j * np.angle(cc[m]))\n",
    "    zz = reconstruct_z(linspace(0,1,c_coef.shape[0]), cc)\n",
    "    plot(zz.real, zz.imag)\n",
    "    sns.despine()\n",
    "    show()"
   ]
  }
 ],
 "metadata": {
  "kernelspec": {
   "display_name": "Python 3",
   "language": "python",
   "name": "python3"
  },
  "language_info": {
   "codemirror_mode": {
    "name": "ipython",
    "version": 3
   },
   "file_extension": ".py",
   "mimetype": "text/x-python",
   "name": "python",
   "nbconvert_exporter": "python",
   "pygments_lexer": "ipython3",
   "version": "3.6.5"
  }
 },
 "nbformat": 4,
 "nbformat_minor": 2
}
